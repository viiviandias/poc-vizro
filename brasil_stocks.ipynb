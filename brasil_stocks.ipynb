{
 "cells": [
  {
   "cell_type": "markdown",
   "id": "eb2c4f0f-b78e-474f-a86b-24315f5bb47b",
   "metadata": {},
   "source": [
    "# Poc Vizro"
   ]
  },
  {
   "cell_type": "markdown",
   "id": "dbee4bba-4203-475a-abb3-854e4b6f75ef",
   "metadata": {},
   "source": [
    "Script para testar a nova ferramenta Vizro, com o intuito de auxiliar as análises de dados, principalmente na área de Finanças."
   ]
  },
  {
   "cell_type": "markdown",
   "id": "ced2858c-dde8-4c68-b4b6-19485844f02b",
   "metadata": {},
   "source": [
    "## Importar bibliotecas Vizro"
   ]
  },
  {
   "cell_type": "markdown",
   "id": "bdfb59d8-2f7e-403c-a220-1f3f33aa014b",
   "metadata": {},
   "source": [
    "Antes de executar ou montar o código do dashboard, é necessário instalar a biblioteca Vizro. Essa biblioteca é utilizada para a criação de dashboards interativos e visualmente atraentes, o que torna a análise de dados do mercado financeiro mais intuitiva e eficaz.

     Para instalar a biblioteca Vizro, basta executar o comando abaixo na célula correspondente do ambiente de programação utilizado:"
   ]
  },
  {
   "cell_type": "code",
   "execution_count": null,
   "id": "4eda3815-3b25-4432-9f9c-1c186d9cac65",
   "metadata": {},
   "outputs": [],
   "source": [
    "#! pip install vizro"
   ]
  },
  {
   "cell_type": "code",
   "execution_count": null,
   "id": "a42be79f-9982-4720-9902-c7e98c058bd9",
   "metadata": {},
   "outputs": [],
   "source": [
    "import vizro.models as vm\n",
    "import vizro.plotly.express as px\n",
    "import pandas as pd\n",
    "import os\n",
    "import csv\n",
    "from vizro import Vizro\n",
    "from vizro.tables import dash_data_table\n",
    "from vizro.actions import export_data"
   ]
  },
  {
   "cell_type": "markdown",
   "id": "adb7c35f-bdbc-4c51-83c0-56e441c4e8e5",
   "metadata": {},
   "source": [
    "## Criação dos Gráficos"
   ]
  },
  {
   "cell_type": "markdown",
   "id": "a18cac9a-4b69-48e7-95bd-88831f36e37c",
   "metadata": {},
   "source": [
    "### Criar DataFrame baseado nos dados das ações do Brasil em 2022"
   ]
  },
  {
   "cell_type": "code",
   "execution_count": null,
   "id": "0451a52b-2af3-4fed-a701-896814d0aff1",
   "metadata": {},
   "outputs": [],
   "source": [
    "df = pd.read_excel('brasil_stocks_2022.xlsx')\n",
    "#Retirar os horários da data\n",
    "df['Date'] = pd.to_datetime(df['Date']).dt.date\n",
    "#Arredondar os valores em duas casa decimais\n",
    "df = df.round(2)"
   ]
  },
  {
   "cell_type": "markdown",
   "id": "baba637e-6bae-4dcb-a3bc-96d38fb528a5",
   "metadata": {},
   "source": [
    "### Criar páginas do dashboard"
   ]
  },
  {
   "cell_type": "markdown",
   "id": "ca5c74b4-7de3-4de4-ac53-319fe8009690",
   "metadata": {},
   "source": [
    "#### Primeira Página"
   ]
  },
  {
   "cell_type": "markdown",
   "id": "1917e8c2-bc88-4bc5-ac40-1982a540fd65",
   "metadata": {},
   "source": [
    "Na primeira página, é apresentado um gráfico do tipo line que ilustra o comportamento das ações em relação ao seu valor ao longo do tempo. Este gráfico é uma ferramenta valiosa para análises futuras e acompanhamento da variação do valor das ações ao longo do tempo. 

     Com base nessas informações, é possível tomar decisões mais informadas sobre possíveis compras de ações ou investimentos no mercado financeiro. É importante ressaltar que a análise de outros fatores, como desempenho da empresa, cenário econômico e político também deve ser considerada antes de tomar qualquer decisão de investimento. "
   ]
  },
  {
   "cell_type": "code",
   "execution_count": null,
   "id": "11ccaa51-3530-4a6e-8e56-cc434c9d8048",
   "metadata": {},
   "outputs": [],
   "source": [
    "price_evolution = vm.Page(\n",
    "    title=\"Análise da evolução do preço das ações\",\n",
    "    layout=vm.Layout(grid=[[0, 0], [1, 1], [2,2]]),\n",
    "    path='/price_evolution',\n",
    "    components=[\n",
    "        vm.Card(\n",
    "            text=\"\"\"\n",
    "            \n",
    "            Podemos escrever um texto explicativo ou até mesmo a análise de dados e informações, antes dos gráficos. Nessa página, é apresentado um gráfico do tipo line que ilustra o comportamento das ações em relação ao seu valor ao longo do tempo. Este gráfico é uma ferramenta valiosa para análises futuras e acompanhamento da variação do valor das ações ao longo do tempo. \n",
    "            \"\"\",\n",
    "        ),\n",
    "        vm.Graph(id=\"line_chart\", figure=px.line(df, x='Date', y='Adj Close', color='Symbol')),\n",
    "        vm.Button(\n",
    "            text=\"Export Data\",\n",
    "            actions=[\n",
    "                vm.Action(\n",
    "                    function=export_data()\n",
    "                ),\n",
    "            ],\n",
    "        ),\n",
    "    ],\n",
    "    controls=[vm.Filter(column='Symbol')],\n",
    ")"
   ]
  },
  {
   "cell_type": "markdown",
   "id": "40839b5b-5a15-4af3-94bd-88b70f78915b",
   "metadata": {},
   "source": [
    "#### Segunda Página"
   ]
  },
  {
   "cell_type": "markdown",
   "id": "3de96ee0-04d4-43db-9c92-42d69faf1cb3",
   "metadata": {},
   "source": [
    "Na segunda página, é apresentado um gráfico do tipo area que ilustra a variação do volume de negociações das ações ao longo do tempo. Este gráfico é uma ferramenta importante para entender o interesse dos investidores nas ações da empresa e como ele pode variar ao longo do tempo. Observando as variações do volume de negociações, é possível identificar momentos de maior e menor liquidez, o que pode afetar o valor das ações no mercado. Além disso, essa análise pode ser utilizada para entender o comportamento do mercado e a reação dos investidores a eventos específicos relacionados à empresa ou ao mercado financeiro em geral. É importante lembrar que a análise de outros fatores, como notícias, relatórios financeiros e análises técnicas também devem ser considerados para uma tomada de decisão mais informada sobre investimentos no mercado financeiro."
   ]
  },
  {
   "cell_type": "code",
   "execution_count": null,
   "id": "144ee07a-7392-4aa8-9cb6-af2a113205c6",
   "metadata": {},
   "outputs": [],
   "source": [
    "volume_evolution = vm.Page(\n",
    "    title=\"Análise da evolução do volume de negociações das ações\",\n",
    "    path='/volume_evolution',\n",
    "    components=[\n",
    "        vm.Graph(id=\"area_chart\", figure=px.area(df, x='Date', y='Volume', color='Symbol')),\n",
    "        vm.Button(\n",
    "            text=\"Export Data\",\n",
    "            actions=[\n",
    "                vm.Action(\n",
    "                    function=export_data()\n",
    "                ),\n",
    "    ],\n",
    "        ),\n",
    "    ],\n",
    "    controls=[vm.Filter(column='Symbol')],\n",
    ")"
   ]
  },
  {
   "cell_type": "markdown",
   "id": "721dbd43-5ad7-4a3c-bb2a-5cab536bc75e",
   "metadata": {},
   "source": [
    "#### Terceira Página"
   ]
  },
  {
   "cell_type": "markdown",
   "id": "979f6be4-a9cc-4b12-9c4f-e740d6986d5b",
   "metadata": {},
   "source": [
    "Na terceira página, há dois gráficos do tipo bar que mostram a evolução dos preços de abertura e fechamento das ações em períodos específicos. A análise desses gráficos é importante para compreender a variação dos preços das ações durante o período analisado e identificar possíveis tendências de alta ou baixa no mercado. Além disso, a análise da variação dos preços de abertura e fechamento das ações pode ajudar a identificar possíveis padrões de comportamento do mercado financeiro, como a influência de eventos específicos ou a reação dos investidores a notícias relevantes. Essa análise pode ser utilizada para tomar decisões informadas sobre possíveis compras ou vendas de ações, por exemplo. No entanto, vale ressaltar que a análise da variação dos preços de abertura e fechamento das ações deve ser feita em conjunto com outras análises, como a análise técnica, fundamentalista e macroeconômica. Somente através de uma análise completa e integrada é possível tomar decisões informadas e minimizar os riscos de investimentos no mercado financeiro."
   ]
  },
  {
   "cell_type": "code",
   "execution_count": null,
   "id": "2792c9da-3d8c-4a98-8589-2d6c7b7722f1",
   "metadata": {},
   "outputs": [],
   "source": [
    "open_close_evolution = vm.Page(\n",
    "    title=\"Análise da evolução dos preços de abertura e fechamento das ações\",\n",
    "    layout=vm.Layout(grid=[[0, 0], [1, 1], [2, 2]]),\n",
    "    path='/open_close_evolution',\n",
    "    components=[\n",
    "        vm.Graph(id=\"open_chart\", figure=px.bar(df, title='Preço de abertura', x='Date', y='Open', color='Symbol')),\n",
    "        vm.Graph(id=\"close_chart\", figure=px.bar(df, title='Preço de fechamento', x='Date', y='Close', color='Symbol')),\n",
    "         vm.Button(\n",
    "            text=\"Export Data\",\n",
    "            actions=[\n",
    "                vm.Action(\n",
    "                    function=export_data()\n",
    "                ),\n",
    "    ],\n",
    "         ),\n",
    "    ],\n",
    "    controls=[vm.Filter(column='Symbol')],\n",
    ")"
   ]
  },
  {
   "cell_type": "markdown",
   "id": "777caa51-ed9f-4d77-b331-52429865864e",
   "metadata": {},
   "source": [
    "#### Quarta Página"
   ]
  },
  {
   "cell_type": "markdown",
   "id": "2354e7d4-1eaf-4dd6-ab08-d11ff630c229",
   "metadata": {},
   "source": [
    "Na quarta página do dashboard, há um gráfico do tipo scatter que ilustra a relação entre o preço de fechamento das ações e o volume de negociações. A partir da análise desse gráfico, é possível compreender a variação do volume de negociações em relação ao preço de fechamento das ações e identificar possíveis padrões de comportamento do mercado financeiro. Além disso, é possível analisar a correlação entre o volume de negociações e o preço de fechamento das ações. Caso haja uma correlação positiva, ou seja, o aumento no volume de negociações está associado a um aumento no preço de fechamento das ações, pode-se concluir que há uma demanda maior por essas ações e, portanto, um possível aumento no valor futuro das mesmas. Já se houver uma correlação negativa, ou seja, o aumento no volume de negociações está associado a uma queda no preço de fechamento das ações, pode-se inferir que há uma oferta maior dessas ações e, portanto, um possível declínio no valor futuro das mesmas. No entanto, é importante lembrar que a análise do gráfico do tipo scatter deve ser complementada com outras análises, como a análise técnica, fundamentalista e macroeconômica, para tomar decisões informadas sobre investimentos no mercado financeiro."
   ]
  },
  {
   "cell_type": "code",
   "execution_count": null,
   "id": "1276ff97-0dcb-4e55-a115-4500705a610d",
   "metadata": {},
   "outputs": [],
   "source": [
    "close_vol_relation = vm.Page(\n",
    "     title=\"Análise da relação entre preço de fechamento e volume de negociações das ações\",\n",
    "     path='/close_vol_relation',\n",
    "    components=[\n",
    "        vm.Graph(id=\"scatter_chart\", figure=px.scatter(df, x=\"Adj Close\", y=\"Volume\", color='Symbol')),\n",
    "         vm.Button(\n",
    "            text=\"Export Data\",\n",
    "            actions=[\n",
    "                vm.Action(\n",
    "                    function=export_data()\n",
    "                ),\n",
    "        ],\n",
    "         ),\n",
    "    ],\n",
    "    controls=[vm.Filter(column='Symbol')],\n",
    ")   "
   ]
  },
  {
   "cell_type": "markdown",
   "id": "c135dab4-fd83-49ef-87dd-e17a07a1d487",
   "metadata": {},
   "source": [
    "#### Quinta Página"
   ]
  },
  {
   "cell_type": "markdown",
   "id": "b1ce4be4-1c9c-473d-a9dc-b55fb7d9ba02",
   "metadata": {},
   "source": [
    "Na última página do dashboard, não há um gráfico, mas sim uma tabela que contém todos os dados utilizados para gerar os gráficos anteriores. Essa tabela permite filtrar os dados por ações específicas, facilitando a análise das informações de interesse. Além disso, há um botão para exportar todos os dados ou apenas as informações filtradas. Todos os gráficos anteriores apresentam a opção de filtrar as informações a partir das ações escolhidas ou comparar todas as ações disponíveis na tabela. Isso permite uma análise mais personalizada e específica das informações, facilitando a identificação de padrões e tendências no mercado financeiro."
   ]
  },
  {
   "cell_type": "code",
   "execution_count": null,
   "id": "35689433-2afc-486c-9d65-275945d41c2d",
   "metadata": {},
   "outputs": [],
   "source": [
    "datas_table = vm.Page(\n",
    "    title=\"Análise dos dados das ações\",\n",
    "    path='/datas_table',\n",
    "    components=[\n",
    "        vm.Card(\n",
    "            text=\"\"\"\n",
    "\n",
    "            É possível explorar os dados em formato de tabelas, realizar filtros com as ações de interesse e exportar os dados.\n",
    "            \"\"\",\n",
    "        ),\n",
    "        vm.Table(id=\"table\", title=\"Dados das ações\", figure=dash_data_table(data_frame=df)),\n",
    "        vm.Button(\n",
    "            text=\"Export Data\",\n",
    "            actions=[\n",
    "                vm.Action(\n",
    "                    function=export_data()\n",
    "                ),\n",
    "    ],\n",
    "        ),\n",
    "    ],\n",
    "    controls=[vm.Filter(column='Symbol')],\n",
    ")"
   ]
  },
  {
   "cell_type": "markdown",
   "id": "e828f16f-2121-404c-bcca-83557457bf38",
   "metadata": {},
   "source": [
    "#### Home Page"
   ]
  },
  {
   "cell_type": "markdown",
   "id": "8a46ddd0-bcd0-418b-9425-8e455a680979",
   "metadata": {},
   "source": [
    "A Home Page, ou página inicial do dashboard, apresenta blocos de texto que possibilitam a nomeação das páginas e a colocação de uma descrição sobre cada uma delas. Clicando em cima do bloco, o usuário é direcionado para a página correspondente. Além disso, é possível adicionar texto, fotos e ícones na descrição dos blocos, permitindo uma identificação visual mais clara e facilitando a navegação do usuário no dashboard. O layout oferece diversas opções de escolha para a organização dos blocos na Home Page, podendo ser adicionados mais de um bloco. Essa organização e identificação clara das páginas do dashboard é importante para que o usuário possa acessar as informações de forma rápida e intuitiva, sem precisar perder tempo procurando por determinada informação. Dessa forma, o dashboard se torna uma ferramenta mais eficaz e útil para a análise de dados do mercado financeiro."
   ]
  },
  {
   "cell_type": "code",
   "execution_count": null,
   "id": "2ddf14cd-9d0b-4cd7-a33d-0f9b8362e6d3",
   "metadata": {},
   "outputs": [],
   "source": [
    "home_page = vm.Page(\n",
    "    title=\"Dashboard de análise de ações do Brasil em 2022\",\n",
    "    layout=vm.Layout(grid=[[0,0], [1, 2], [3, 4], [5, 5]]),\n",
    "    components=[\n",
    "        vm.Card(\n",
    "            text=\"\"\"\n",
    "            ### Home Page\n",
    "\n",
    "            Este dashboard tem como objetivo analisar o comportamento das ações no mercado financeiro brasileiro no ano de 2022. \n",
    "            São apresentados dados relevantes como datas, ações, volume de negociações, preços e preços ajustados, entre outras informações. \n",
    "            A partir desses dados, foram criados diversos gráficos que permitem uma análise detalhada e aprofundada do mercado financeiro. \n",
    "            Os gráficos apresentados no dashboard oferecem uma visão geral e detalhada da evolução do preço das ações, volume de negociações, \n",
    "            preços de abertura e fechamento das ações, relação entre preço de fechamento e volume de negociações, entre outros.\"\"\",\n",
    "            href='home_page',\n",
    "        ),\n",
    "        vm.Card(\n",
    "            text=\"\"\"\n",
    "            ### Análise da evolução do preço das ações\n",
    "\n",
    "            Na primeira página, é apresentado um gráfico do tipo line que ilustra o comportamento das ações em relação ao seu valor ao longo do tempo. \n",
    "            Este gráfico é uma ferramenta valiosa para análises futuras e acompanhamento da variação do valor das ações ao longo do tempo. \n",
    "            Com base nessas informações, é possível tomar decisões mais informadas sobre possíveis compras de ações ou investimentos no mercado financeiro.\n",
    "            \"\"\",\n",
    "            href='/price_evolution',\n",
    "        ),\n",
    "        vm.Card(\n",
    "            text=\"\"\"\n",
    "            ### Análise da evolução do volume de negociações das ações\n",
    "         \n",
    "            Na segunda página, é apresentado um gráfico do tipo area que ilustra a variação do volume de negociações das ações ao longo do tempo. \n",
    "            Este gráfico é uma ferramenta importante para entender o interesse dos investidores nas ações da empresa e como ele pode variar ao longo do tempo. \n",
    "            Observando as variações do volume de negociações, é possível identificar momentos de maior e menor liquidez, \n",
    "            o que pode afetar o valor das ações no mercado. \n",
    "            Além disso, essa análise pode ser utilizada para entender o comportamento do mercado e a reação dos investidores a eventos específicos \n",
    "            relacionados à empresa ou ao mercado financeiro em geral.\n",
    "            \"\"\",\n",
    "            href='/volume_evolution',\n",
    "        ),\n",
    "        vm.Card(\n",
    "            text=\"\"\"\n",
    "            ### Análise da evolução dos preços de abertura e fechamento das ações\n",
    "\n",
    "            Na terceira página, há dois gráficos do tipo bar que mostram a evolução dos preços de abertura e fechamento das ações em períodos específicos. \n",
    "            A análise desses gráficos é importante para compreender a variação dos preços das ações durante o período analisado \n",
    "            e identificar possíveis tendências de alta ou baixa no mercado. \n",
    "            Além disso, a análise da variação dos preços de abertura \n",
    "            e fechamento das ações pode ajudar a identificar possíveis padrões de comportamento do mercado financeiro, \n",
    "            como a influência de eventos específicos ou a reação dos investidores a notícias relevantes. \n",
    "            Essa análise pode ser utilizada para tomar decisões informadas sobre possíveis compras ou vendas de ações, por exemplo.\n",
    "            No entanto, vale ressaltar que a análise da variação dos preços de abertura e fechamento das ações deve ser feita em conjunto com outras análises, \n",
    "            como a análise técnica, fundamentalista e macroeconômica. \n",
    "            \"\"\",\n",
    "            href='/open_close_evolution',\n",
    "        ),\n",
    "        vm.Card(\n",
    "            text=\"\"\"\n",
    "            ### Análise da relação entre preço de fechamento e volume de negociações das ações\n",
    "\n",
    "            Na quarta página do dashboard, há um gráfico do tipo scatter que ilustra a relação entre o preço de fechamento das ações e o volume de negociações. \n",
    "            A partir da análise desse gráfico, é possível compreender a variação do volume de negociações em relação ao preço de fechamento das ações \n",
    "            e identificar possíveis padrões de comportamento do mercado financeiro. Além disso, é possível analisar a correlação entre o volume de negociações \n",
    "            e o preço de fechamento das ações. Caso haja uma correlação positiva, ou seja, o aumento no volume de negociações está associado a um aumento \n",
    "            no preço de fechamento das ações, pode-se concluir que há uma demanda maior por essas ações e, portanto, um possível aumento no valor futuro das mesmas. \n",
    "            Já se houver uma correlação negativa, ou seja, o aumento no volume de negociações está associado a uma queda no preço de fechamento das ações, \n",
    "            pode-se inferir que há uma oferta maior dessas ações e, portanto, um possível declínio no valor futuro das mesmas. \n",
    "            \"\"\",\n",
    "            href='/close_vol_relation',\n",
    "        ),\n",
    "        vm.Card(\n",
    "            text=\"\"\"\n",
    "            ### Análise dos dados das ações\n",
    "\n",
    "            Na última página do dashboard, não há um gráfico, mas sim uma tabela que contém todos os dados utilizados para gerar os gráficos anteriores. \n",
    "            Essa tabela permite filtrar os dados por ações específicas, facilitando a análise das informações de interesse. \n",
    "            Além disso, há um botão para exportar todos os dados ou apenas as informações filtradas.\n",
    "            Todos os gráficos anteriores apresentam a opção de filtrar as informações a partir das ações escolhidas \n",
    "            ou comparar todas as ações disponíveis na tabela. Isso permite uma análise mais personalizada e específica das informações, \n",
    "            facilitando a identificação de padrões e tendências no mercado financeiro.\n",
    "            \"\"\",\n",
    "            href='/datas_table',\n",
    "        ),\n",
    "    ],\n",
    ")"
   ]
  },
  {
   "cell_type": "markdown",
   "id": "5289331b-e96d-4ee8-87e0-f672117d44b9",
   "metadata": {},
   "source": [
    "### Rodar o dashboard"
   ]
  },
  {
   "cell_type": "markdown",
   "id": "7391bac4-63dd-49b5-a969-0f371dd640bb",
   "metadata": {},
   "source": [
    "Para finalizar a criação do dashboard, é necessário selecionar as páginas que se deseja visualizar e ordená-las de acordo com a preferência do usuário. A escolha das páginas a serem exibidas dependerá das necessidades e objetivos do usuário em relação à análise de dados do mercado financeiro. Ao selecionar e ordenar as páginas, o dashboard estará pronto para ser utilizado, oferecendo uma visualização clara e organizada das informações coletadas. Vale lembrar que o dashboard é uma ferramenta dinâmica, que pode ser atualizada e personalizada de acordo com as necessidades do usuário ao longo do tempo. Aproveite as funcionalidades oferecidas pelo dashboard para obter uma análise mais completa e informada do mercado financeiro."
   ]
  },
  {
   "cell_type": "code",
   "execution_count": null,
   "id": "1531f523-c187-42b8-a76c-9a5baffff92a",
   "metadata": {},
   "outputs": [],
   "source": [
    "dashboard = vm.Dashboard(pages=[home_page, price_evolution, volume_evolution, open_close_evolution, close_vol_relation, datas_table])\n",
    "Vizro().build(dashboard).run()"
   ]
  }
 ],
 "metadata": {
  "kernelspec": {
   "display_name": "Python 3 (ipykernel)",
   "language": "python",
   "name": "python3"
  },
  "language_info": {
   "codemirror_mode": {
    "name": "ipython",
    "version": 3
   },
   "file_extension": ".py",
   "mimetype": "text/x-python",
   "name": "python",
   "nbconvert_exporter": "python",
   "pygments_lexer": "ipython3",
   "version": "3.11.5"
  }
 },
 "nbformat": 4,
 "nbformat_minor": 5
}
